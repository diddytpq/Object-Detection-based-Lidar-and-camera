{
 "cells": [
  {
   "cell_type": "code",
   "execution_count": 5,
   "metadata": {},
   "outputs": [],
   "source": [
    "%matplotlib inline\n",
    "import matplotlib.pyplot as plt\n",
    "import cv2\n",
    "from kitti_object import kitti_object, show_lidar_with_depth, show_lidar_on_image, \\\n",
    "                         show_image_with_boxes, show_lidar_topview_with_boxes, show_lidar_with_depth_custom\n",
    "\n",
    "\n"
   ]
  },
  {
   "cell_type": "code",
   "execution_count": 6,
   "metadata": {},
   "outputs": [
    {
     "name": "stdout",
     "output_type": "stream",
     "text": [
      "Notebook initialized with ipy backend.\n"
     ]
    }
   ],
   "source": [
    "from xvfbwrapper import Xvfb\n",
    "vdisplay = Xvfb(width=800, height=450)\n",
    "vdisplay.start()\n",
    "from mayavi import mlab\n",
    "\n",
    "mlab.init_notebook('ipy') # do not use 'x3d' backend which leads to color missing"
   ]
  },
  {
   "cell_type": "code",
   "execution_count": 293,
   "metadata": {},
   "outputs": [],
   "source": [
    "data_idx = 2796"
   ]
  },
  {
   "cell_type": "code",
   "execution_count": 294,
   "metadata": {},
   "outputs": [
    {
     "name": "stdout",
     "output_type": "stream",
     "text": [
      "/media/drcl/DATADRIVE1/kitti training\n",
      "/media/drcl/DATADRIVE1/kitti/training/velodyne/002796.bin\n",
      "('All point num: ', 125217)\n",
      "('FOV point num: ', (19182, 4))\n",
      "pc_velo (19182, 4)\n",
      "==================== (19182, 4)\n",
      "score :  1\n",
      "score :  1\n",
      "score :  1\n"
     ]
    },
    {
     "data": {
      "application/vnd.jupyter.widget-view+json": {
       "model_id": "9f016637aef1418d9b80283ae17b969a",
       "version_major": 2,
       "version_minor": 0
      },
      "text/plain": [
       "Image(value=b'\\x89PNG\\r\\n\\x1a\\n\\x00\\x00\\x00\\rIHDR\\x00\\x00\\x03 \\x00\\x00\\x01\\xc2\\x08\\x02\\x00\\x00\\x00\\x98\\x01:\\x9…"
      ]
     },
     "metadata": {},
     "output_type": "display_data"
    }
   ],
   "source": [
    "###GT 3D 박스 출력\n",
    "\n",
    "dataset = kitti_object(\"/media/drcl/DATADRIVE1/kitti\", \"/media/drcl/DATADRIVE1/kitti/\", \"training\")\n",
    "\n",
    "objects = dataset.get_label_objects(data_idx)\n",
    "pc_velo = dataset.get_lidar(data_idx)\n",
    "calib = dataset.get_calibration(data_idx)\n",
    "img = dataset.get_image(data_idx)\n",
    "img_height, img_width, _ = img.shape\n",
    "\n",
    "fig_3d = mlab.figure(bgcolor=(0, 0, 0), size=(800, 450))\n",
    "show_lidar_with_depth(pc_velo, objects, calib, fig_3d, True, img_width, img_height)\n",
    "fig_3d"
   ]
  },
  {
   "cell_type": "code",
   "execution_count": 29,
   "metadata": {},
   "outputs": [],
   "source": [
    "data_idx = 2530"
   ]
  },
  {
   "cell_type": "code",
   "execution_count": null,
   "metadata": {},
   "outputs": [],
   "source": []
  }
 ],
 "metadata": {
  "kernelspec": {
   "display_name": "base",
   "language": "python",
   "name": "python3"
  },
  "language_info": {
   "codemirror_mode": {
    "name": "ipython",
    "version": 3
   },
   "file_extension": ".py",
   "mimetype": "text/x-python",
   "name": "python",
   "nbconvert_exporter": "python",
   "pygments_lexer": "ipython3",
   "version": "3.9.12"
  },
  "vscode": {
   "interpreter": {
    "hash": "703655dbcd5c7c8bb9ae97194b51cd0ffe369cdc9bf201b74b2ce75193c2e233"
   }
  }
 },
 "nbformat": 4,
 "nbformat_minor": 4
}
