{
 "cells": [
  {
   "cell_type": "code",
   "execution_count": 1,
   "metadata": {},
   "outputs": [
    {
     "name": "stdout",
     "output_type": "stream",
     "text": [
      "Notebook initialized with ipy backend.\n"
     ]
    }
   ],
   "source": [
    "%matplotlib inline\n",
    "import matplotlib.pyplot as plt\n",
    "import cv2\n",
    "from kitti_object import kitti_object, show_lidar_with_depth, show_lidar_on_image, \\\n",
    "                         show_image_with_boxes, show_lidar_topview_with_boxes, show_lidar_with_depth_custom\n",
    "\n",
    "\n",
    "from xvfbwrapper import Xvfb\n",
    "vdisplay = Xvfb(width=800, height=450)\n",
    "vdisplay.start()\n",
    "from mayavi import mlab\n",
    "\n",
    "mlab.init_notebook('ipy') # do not use 'x3d' backend which leads to color missing"
   ]
  },
  {
   "cell_type": "code",
   "execution_count": 2,
   "metadata": {},
   "outputs": [],
   "source": [
    "data_idx = 14"
   ]
  },
  {
   "cell_type": "code",
   "execution_count": 3,
   "metadata": {},
   "outputs": [
    {
     "name": "stdout",
     "output_type": "stream",
     "text": [
      "/media/drcl/DATADRIVE1/kitti training\n",
      "/media/drcl/DATADRIVE1/kitti/training/velodyne/000014.bin\n",
      "('All point num: ', 124176)\n",
      "('FOV point num: ', (19701, 4))\n",
      "pc_velo (19701, 4)\n",
      "==================== (19701, 4)\n",
      "(2.57, 1.72, 59.81)\n",
      "score :  1\n"
     ]
    },
    {
     "data": {
      "application/vnd.jupyter.widget-view+json": {
       "model_id": "e9975058c8094f47969d47d84d9881d0",
       "version_major": 2,
       "version_minor": 0
      },
      "text/plain": [
       "Image(value=b'\\x89PNG\\r\\n\\x1a\\n\\x00\\x00\\x00\\rIHDR\\x00\\x00\\x03 \\x00\\x00\\x01\\xc2\\x08\\x02\\x00\\x00\\x00\\x98\\x01:\\x9…"
      ]
     },
     "metadata": {},
     "output_type": "display_data"
    }
   ],
   "source": [
    "###GT 3D 박스 출력\n",
    "\n",
    "dataset = kitti_object(\"/media/drcl/DATADRIVE1/kitti\", \"/media/drcl/DATADRIVE1/kitti/\", \"training\")\n",
    "\n",
    "objects = dataset.get_label_objects(data_idx)\n",
    "pc_velo = dataset.get_lidar(data_idx)\n",
    "calib = dataset.get_calibration(data_idx)\n",
    "img = dataset.get_image(data_idx)\n",
    "img_height, img_width, _ = img.shape\n",
    "\n",
    "fig_3d = mlab.figure(bgcolor=(0, 0, 0), size=(800, 450))\n",
    "show_lidar_with_depth(pc_velo, objects, calib, fig_3d, True, img_width, img_height)\n",
    "fig_3d"
   ]
  },
  {
   "cell_type": "code",
   "execution_count": 4,
   "metadata": {},
   "outputs": [
    {
     "name": "stdout",
     "output_type": "stream",
     "text": [
      "/media/drcl/DATADRIVE1/kitti training\n",
      "/media/drcl/DATADRIVE1/kitti/training/velodyne/000014.bin\n",
      "('All point num: ', 124176)\n",
      "('FOV point num: ', (19701, 4))\n",
      "pc_velo (19701, 4)\n",
      "==================== (19701, 4)\n"
     ]
    },
    {
     "data": {
      "application/vnd.jupyter.widget-view+json": {
       "model_id": "357b2c0edeae4d5c999c9b592e98776f",
       "version_major": 2,
       "version_minor": 0
      },
      "text/plain": [
       "Image(value=b'\\x89PNG\\r\\n\\x1a\\n\\x00\\x00\\x00\\rIHDR\\x00\\x00\\x03 \\x00\\x00\\x01\\xc2\\x08\\x02\\x00\\x00\\x00\\x98\\x01:\\x9…"
      ]
     },
     "metadata": {},
     "output_type": "display_data"
    }
   ],
   "source": [
    "### 3D detector candidate\n",
    "\n",
    "dataset_pred = kitti_object(\"/media/drcl/DATADRIVE1/kitti\", \"/media/drcl/DATADRIVE1/kitti/clocs/data/clocs_data/3D_kitti_format_incloud_score/\", \"training\")\n",
    "\n",
    "objects_pred = dataset_pred.get_label_objects(data_idx)\n",
    "pc_velo_pred = dataset_pred.get_lidar(data_idx)\n",
    "calib_pred = dataset_pred.get_calibration(data_idx)\n",
    "img_pred = dataset_pred.get_image(data_idx)\n",
    "img_height_pred, img_width_pred, _ = img_pred.shape\n",
    "\n",
    "fig_3d = mlab.figure(bgcolor=(0, 0, 0), size=(800, 450))\n",
    "show_lidar_with_depth_custom(pc_velo_pred, objects_pred, calib_pred, fig_3d, True, img_width_pred, img_height_pred)\n",
    "fig_3d"
   ]
  },
  {
   "cell_type": "code",
   "execution_count": 5,
   "metadata": {},
   "outputs": [
    {
     "name": "stdout",
     "output_type": "stream",
     "text": [
      "/media/drcl/DATADRIVE1/kitti training\n",
      "/media/drcl/DATADRIVE1/kitti/training/velodyne/002530.bin\n",
      "('All point num: ', 123824)\n",
      "('FOV point num: ', (20538, 4))\n",
      "pc_velo (20538, 4)\n",
      "==================== (20538, 4)\n",
      "score :  0.7370883822441101\n",
      "score :  0.5713321566581726\n",
      "score :  0.49423179030418396\n"
     ]
    },
    {
     "data": {
      "application/vnd.jupyter.widget-view+json": {
       "model_id": "8f8200fb27b9475fb24454f0c73010ad",
       "version_major": 2,
       "version_minor": 0
      },
      "text/plain": [
       "Image(value=b'\\x89PNG\\r\\n\\x1a\\n\\x00\\x00\\x00\\rIHDR\\x00\\x00\\x03 \\x00\\x00\\x01\\xc2\\x08\\x02\\x00\\x00\\x00\\x98\\x01:\\x9…"
      ]
     },
     "metadata": {},
     "output_type": "display_data"
    }
   ],
   "source": [
    "### Clocs 박스 출력\n",
    "\n",
    "dataset_Clocs = kitti_object(\"/media/drcl/DATADRIVE1/kitti\", \n",
    "                            \"/home/drcl/workspace/Object-Detection-based-Lidar-and-camera/src/detection_pkg/CLOCs_LQS/data/clocs_data/output/\", \n",
    "                            \"training\")\n",
    "\n",
    "objects_Clocs = dataset_Clocs.get_label_objects(data_idx)\n",
    "pc_velo_Clocs = dataset_Clocs.get_lidar(data_idx)\n",
    "calib_Clocs = dataset_Clocs.get_calibration(data_idx)\n",
    "img_Clocs = dataset_Clocs.get_image(data_idx)\n",
    "img_height_Clocs, img_width_Clocs, _ = img_Clocs.shape\n",
    "\n",
    "fig_3d = mlab.figure(bgcolor=(0, 0, 0), size=(800, 450))\n",
    "show_lidar_with_depth_custom(pc_velo_Clocs, objects_Clocs, calib_Clocs, fig_3d, True, img_width_Clocs, img_height_Clocs)\n",
    "fig_3d"
   ]
  },
  {
   "cell_type": "code",
   "execution_count": null,
   "metadata": {},
   "outputs": [],
   "source": []
  }
 ],
 "metadata": {
  "kernelspec": {
   "display_name": "base",
   "language": "python",
   "name": "python3"
  },
  "language_info": {
   "codemirror_mode": {
    "name": "ipython",
    "version": 3
   },
   "file_extension": ".py",
   "mimetype": "text/x-python",
   "name": "python",
   "nbconvert_exporter": "python",
   "pygments_lexer": "ipython3",
   "version": "3.9.12"
  },
  "vscode": {
   "interpreter": {
    "hash": "703655dbcd5c7c8bb9ae97194b51cd0ffe369cdc9bf201b74b2ce75193c2e233"
   }
  }
 },
 "nbformat": 4,
 "nbformat_minor": 4
}
