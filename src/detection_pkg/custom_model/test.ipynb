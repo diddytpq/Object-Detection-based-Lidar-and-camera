{
 "cells": [
  {
   "cell_type": "code",
   "execution_count": null,
   "metadata": {},
   "outputs": [],
   "source": [
    "from pathlib import Path\n",
    "import numpy as np\n",
    "import torch\n",
    "from google.protobuf import text_format\n",
    "\n",
    "import second.data.kitti_common as kitti\n",
    "import torchplus\n",
    "from second.builder import target_assigner_builder, voxel_builder\n",
    "from second.core import box_np_ops\n",
    "from second.data.preprocess import merge_second_batch, merge_second_batch_multigpu\n",
    "from second.protos import pipeline_pb2\n",
    "from second.pytorch.builder import (box_coder_builder, input_reader_builder,\n",
    "                                    lr_scheduler_builder, optimizer_builder,\n",
    "                                    second_builder)\n",
    "from second.utils.log_tool import SimpleModelLog\n",
    "from second.utils.progress_bar import ProgressBar\n",
    "\n",
    "from utils.train_utils import build_network, _worker_init_fn, example_convert_to_torch\n",
    "\n",
    "device = torch.device(\"cuda\" if torch.cuda.is_available() else \"cpu\")\n"
   ]
  },
  {
   "cell_type": "code",
   "execution_count": null,
   "metadata": {},
   "outputs": [],
   "source": []
  }
 ],
 "metadata": {
  "kernelspec": {
   "display_name": "Python 3.8.13 ('second')",
   "language": "python",
   "name": "python3"
  },
  "language_info": {
   "codemirror_mode": {
    "name": "ipython",
    "version": 3
   },
   "file_extension": ".py",
   "mimetype": "text/x-python",
   "name": "python",
   "nbconvert_exporter": "python",
   "pygments_lexer": "ipython3",
   "version": "3.8.13"
  },
  "vscode": {
   "interpreter": {
    "hash": "a85155895190201d9bbdd2eba1851b6c9e9c05a3c7d757d5fcd73cc672ae96d6"
   }
  }
 },
 "nbformat": 4,
 "nbformat_minor": 2
}
