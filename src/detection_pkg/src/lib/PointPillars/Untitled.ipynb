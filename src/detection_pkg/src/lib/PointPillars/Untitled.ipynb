{
 "cells": [
  {
   "cell_type": "code",
   "execution_count": 1,
   "id": "46cd75ab",
   "metadata": {},
   "outputs": [
    {
     "name": "stdout",
     "output_type": "stream",
     "text": [
      "Jupyter environment detected. Enabling Open3D WebVisualizer.\n",
      "[Open3D INFO] WebRTC GUI backend enabled.\n",
      "[Open3D INFO] WebRTCWindowSystem: HTTP handshake server disabled.\n"
     ]
    }
   ],
   "source": [
    "import argparse\n",
    "import cv2\n",
    "import numpy as np\n",
    "import os\n",
    "import torch\n",
    "import pdb\n",
    "\n",
    "from utils import setup_seed, read_points, read_calib, read_label, \\\n",
    "    keep_bbox_from_image_range, keep_bbox_from_lidar_range, vis_pc, \\\n",
    "    vis_img_3d, bbox3d2corners_camera, points_camera2image, \\\n",
    "    bbox_camera2lidar"
   ]
  },
  {
   "cell_type": "code",
   "execution_count": 2,
   "id": "9159529e",
   "metadata": {},
   "outputs": [],
   "source": [
    "def point_range_filter(pts, point_range=[0, -39.68, -3, 69.12, 39.68, 1]):\n",
    "    '''\n",
    "    data_dict: dict(pts, gt_bboxes_3d, gt_labels, gt_names, difficulty)\n",
    "    point_range: [x1, y1, z1, x2, y2, z2]\n",
    "    논문에 표기된 대로 car, pedstrian cyclist를 검출하는 포인터 범위\n",
    "    '''\n",
    "    flag_x_low = pts[:, 0] > point_range[0] # 0\n",
    "    flag_y_low = pts[:, 1] > point_range[1] # -39.68\n",
    "    flag_z_low = pts[:, 2] > point_range[2] # -3\n",
    "    flag_x_high = pts[:, 0] < point_range[3] # 69.12\n",
    "    flag_y_high = pts[:, 1] < point_range[4] # 39.68\n",
    "    flag_z_high = pts[:, 2] < point_range[5] # 1\n",
    "    keep_mask = flag_x_low & flag_y_low & flag_z_low & flag_x_high & flag_y_high & flag_z_high\n",
    "    pts = pts[keep_mask]\n",
    "    return pts "
   ]
  },
  {
   "cell_type": "code",
   "execution_count": 3,
   "id": "b6dc3696",
   "metadata": {},
   "outputs": [],
   "source": [
    "import numpy as np\n",
    "import pdb\n",
    "import torch\n",
    "import torch.nn as nn\n",
    "import torch.nn.functional as F\n",
    "from model.anchors import Anchors, anchor_target, anchors2bboxes\n",
    "from ops import Voxelization, nms_cuda\n",
    "from utils import limit_period\n",
    "\n",
    "\n",
    "class PillarLayer(nn.Module):\n",
    "    def __init__(self, voxel_size, point_cloud_range, max_num_points, max_voxels):\n",
    "        super().__init__()\n",
    "        self.voxel_layer = Voxelization(voxel_size=voxel_size,\n",
    "                                        point_cloud_range=point_cloud_range,\n",
    "                                        max_num_points=max_num_points,\n",
    "                                        max_voxels=max_voxels)\n",
    "\n",
    "    @torch.no_grad()\n",
    "    def forward(self, batched_pts):\n",
    "        '''\n",
    "        batched_pts: list[tensor], len(batched_pts) = bs\n",
    "        return: \n",
    "               pillars: (p1 + p2 + ... + pb, num_points, c), \n",
    "               coors_batch: (p1 + p2 + ... + pb, 1 + 3), \n",
    "               num_points_per_pillar: (p1 + p2 + ... + pb, ), (b: batch size)\n",
    "        '''\n",
    "        pillars, coors, npoints_per_pillar = [], [], []\n",
    "        for i, pts in enumerate(batched_pts):\n",
    "            voxels_out, coors_out, num_points_per_voxel_out = self.voxel_layer(pts) \n",
    "            # voxels_out: (max_voxel, num_points, c), coors_out: (max_voxel, 3)\n",
    "            # num_points_per_voxel_out: (max_voxel, )\n",
    "            pillars.append(voxels_out)\n",
    "            coors.append(coors_out.long())\n",
    "            npoints_per_pillar.append(num_points_per_voxel_out)\n",
    "        \n",
    "        pillars = torch.cat(pillars, dim=0) # (p1 + p2 + ... + pb, num_points, c)\n",
    "        npoints_per_pillar = torch.cat(npoints_per_pillar, dim=0) # (p1 + p2 + ... + pb, )\n",
    "        coors_batch = []\n",
    "        for i, cur_coors in enumerate(coors):\n",
    "            coors_batch.append(F.pad(cur_coors, (1, 0), value=i))\n",
    "        coors_batch = torch.cat(coors_batch, dim=0) # (p1 + p2 + ... + pb, 1 + 3)\n",
    "\n",
    "        return pillars, coors, npoints_per_pillar\n"
   ]
  },
  {
   "cell_type": "code",
   "execution_count": 9,
   "id": "919dba0a",
   "metadata": {},
   "outputs": [],
   "source": [
    "pc_folder_path = \"dataset/testing/velodyne/\"\n",
    "pc_file_list = os.listdir(pc_folder_path)\n",
    "pc = read_points(pc_folder_path + \"/\" + pc_file_list[0])\n",
    "\n",
    "pc = point_range_filter(pc)\n",
    "# pc_torch = torch.from_numpy(pc)"
   ]
  },
  {
   "cell_type": "code",
   "execution_count": 10,
   "id": "87bc21c2",
   "metadata": {},
   "outputs": [
    {
     "data": {
      "text/plain": [
       "(63339, 4)"
      ]
     },
     "execution_count": 10,
     "metadata": {},
     "output_type": "execute_result"
    }
   ],
   "source": [
    "pc.shape"
   ]
  },
  {
   "cell_type": "code",
   "execution_count": 13,
   "id": "4f415f68",
   "metadata": {},
   "outputs": [
    {
     "name": "stdout",
     "output_type": "stream",
     "text": [
      "tensor([[22.3920,  4.3760,  0.9810,  0.3800],\n",
      "        [ 0.0000,  0.0000,  0.0000,  0.0000],\n",
      "        [ 0.0000,  0.0000,  0.0000,  0.0000],\n",
      "        [ 0.0000,  0.0000,  0.0000,  0.0000],\n",
      "        [ 0.0000,  0.0000,  0.0000,  0.0000],\n",
      "        [ 0.0000,  0.0000,  0.0000,  0.0000],\n",
      "        [ 0.0000,  0.0000,  0.0000,  0.0000],\n",
      "        [ 0.0000,  0.0000,  0.0000,  0.0000],\n",
      "        [ 0.0000,  0.0000,  0.0000,  0.0000],\n",
      "        [ 0.0000,  0.0000,  0.0000,  0.0000],\n",
      "        [ 0.0000,  0.0000,  0.0000,  0.0000],\n",
      "        [ 0.0000,  0.0000,  0.0000,  0.0000],\n",
      "        [ 0.0000,  0.0000,  0.0000,  0.0000],\n",
      "        [ 0.0000,  0.0000,  0.0000,  0.0000],\n",
      "        [ 0.0000,  0.0000,  0.0000,  0.0000],\n",
      "        [ 0.0000,  0.0000,  0.0000,  0.0000],\n",
      "        [ 0.0000,  0.0000,  0.0000,  0.0000],\n",
      "        [ 0.0000,  0.0000,  0.0000,  0.0000],\n",
      "        [ 0.0000,  0.0000,  0.0000,  0.0000],\n",
      "        [ 0.0000,  0.0000,  0.0000,  0.0000],\n",
      "        [ 0.0000,  0.0000,  0.0000,  0.0000],\n",
      "        [ 0.0000,  0.0000,  0.0000,  0.0000],\n",
      "        [ 0.0000,  0.0000,  0.0000,  0.0000],\n",
      "        [ 0.0000,  0.0000,  0.0000,  0.0000],\n",
      "        [ 0.0000,  0.0000,  0.0000,  0.0000],\n",
      "        [ 0.0000,  0.0000,  0.0000,  0.0000],\n",
      "        [ 0.0000,  0.0000,  0.0000,  0.0000],\n",
      "        [ 0.0000,  0.0000,  0.0000,  0.0000],\n",
      "        [ 0.0000,  0.0000,  0.0000,  0.0000],\n",
      "        [ 0.0000,  0.0000,  0.0000,  0.0000],\n",
      "        [ 0.0000,  0.0000,  0.0000,  0.0000],\n",
      "        [ 0.0000,  0.0000,  0.0000,  0.0000]], device='cuda:0')\n",
      "tensor([139, 275,  24], device='cuda:0')\n",
      "tensor(1, device='cuda:0', dtype=torch.int32)\n"
     ]
    }
   ],
   "source": [
    "if __name__ == \"__main__\":\n",
    "\n",
    "    np.random.seed(22)\n",
    "\n",
    "    device = torch.device(\"cuda:0\")\n",
    "\n",
    "    nclasses=3\n",
    "    voxel_size=[0.16, 0.16, 0.16]\n",
    "    point_cloud_range=[0, -39.68, -3, 69.12, 39.68, 1]\n",
    "    max_num_points=32\n",
    "    max_voxels=(16000, 40000)\n",
    "\n",
    "    test_layer = PillarLayer(voxel_size=voxel_size,\n",
    "                            point_cloud_range=point_cloud_range,\n",
    "                            max_voxels=max_voxels,\n",
    "                            max_num_points=max_num_points)\n",
    "\n",
    "    # pc = np.random.uniform(-2, 8, size=[1000, 4]).astype(np.float32)\n",
    "    pc_tensor = torch.from_numpy(pc).to(device)\n",
    "\n",
    "    voxels_th, indices_th, num_p_in_vx_th = test_layer([pc_tensor])\n",
    "\n",
    "    # print(voxels_th[0].shape)\n",
    "    # print(indices_th[0].shape)\n",
    "    # print(num_p_in_vx_th[0].shape)\n",
    "\n",
    "    # voxels_th = voxels_th.cpu().numpy()\n",
    "    # indices_th = indices_th.cpu().numpy()\n",
    "    # num_p_in_vx_th = num_p_in_vx_th.cpu().numpy()\n",
    "\n",
    "    print(voxels_th[0][0])\n",
    "    print(indices_th[0][0])\n",
    "    print(num_p_in_vx_th[0][0])\n",
    "\n"
   ]
  },
  {
   "cell_type": "code",
   "execution_count": 20,
   "id": "552d3b54",
   "metadata": {},
   "outputs": [],
   "source": [
    "from spconv.utils import Point2VoxelCPU3d\n",
    "from spconv.pytorch.utils import PointToVoxel, gather_features_by_pc_voxel_id\n"
   ]
  },
  {
   "cell_type": "code",
   "execution_count": 15,
   "id": "32992d0f",
   "metadata": {},
   "outputs": [],
   "source": [
    "coors_batch = []\n",
    "\n",
    "cur_list = torch.Tensor([[0,0,0],\n",
    "                        [1,1,1]])\n",
    "\n",
    "for i, cur_coors in enumerate(cur_list):\n",
    "    coors_batch.append(F.pad(cur_coors, (1, 0), value=i))"
   ]
  },
  {
   "cell_type": "code",
   "execution_count": 16,
   "id": "2a192c41",
   "metadata": {},
   "outputs": [
    {
     "data": {
      "text/plain": [
       "[tensor([0., 0., 0., 0.]), tensor([1., 1., 1., 1.])]"
      ]
     },
     "execution_count": 16,
     "metadata": {},
     "output_type": "execute_result"
    }
   ],
   "source": [
    "coors_batch = torch.cat(coors_batch, dim=0)"
   ]
  },
  {
   "cell_type": "code",
   "execution_count": 17,
   "id": "dd523935",
   "metadata": {},
   "outputs": [],
   "source": [
    "coors_batch = torch.cat(coors_batch, dim=0)"
   ]
  },
  {
   "cell_type": "code",
   "execution_count": 18,
   "id": "bb4ca2dc",
   "metadata": {},
   "outputs": [
    {
     "data": {
      "text/plain": [
       "tensor([0., 0., 0., 0., 1., 1., 1., 1.])"
      ]
     },
     "execution_count": 18,
     "metadata": {},
     "output_type": "execute_result"
    }
   ],
   "source": [
    "coors_batch"
   ]
  },
  {
   "cell_type": "code",
   "execution_count": null,
   "id": "c1d9adde",
   "metadata": {},
   "outputs": [],
   "source": []
  }
 ],
 "metadata": {
  "kernelspec": {
   "display_name": "Python 3.8.13 ('pillars')",
   "language": "python",
   "name": "python3"
  },
  "language_info": {
   "codemirror_mode": {
    "name": "ipython",
    "version": 3
   },
   "file_extension": ".py",
   "mimetype": "text/x-python",
   "name": "python",
   "nbconvert_exporter": "python",
   "pygments_lexer": "ipython3",
   "version": "3.8.13"
  },
  "vscode": {
   "interpreter": {
    "hash": "9a272d058f02466131663a98fde0a5fb028fb2427dbe553090c2dd1c9aa10e44"
   }
  }
 },
 "nbformat": 4,
 "nbformat_minor": 5
}
