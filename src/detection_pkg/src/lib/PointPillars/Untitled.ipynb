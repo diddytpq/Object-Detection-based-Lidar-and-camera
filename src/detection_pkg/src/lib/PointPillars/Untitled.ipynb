{
 "cells": [
  {
   "cell_type": "code",
   "execution_count": 1,
   "id": "46cd75ab",
   "metadata": {},
   "outputs": [],
   "source": [
    "import argparse\n",
    "import cv2\n",
    "import numpy as np\n",
    "import os\n",
    "import torch\n",
    "import pdb\n"
   ]
  },
  {
   "cell_type": "code",
   "execution_count": 24,
   "id": "9159529e",
   "metadata": {},
   "outputs": [],
   "source": [
    "def point_range_filter(pts, point_range=[0, -39.68, -3, 69.12, 39.68, 1]):\n",
    "    '''\n",
    "    data_dict: dict(pts, gt_bboxes_3d, gt_labels, gt_names, difficulty)\n",
    "    point_range: [x1, y1, z1, x2, y2, z2]\n",
    "    논문에 표기된 대로 car, pedstrian cyclist를 검출하는 포인터 범위\n",
    "    '''\n",
    "    flag_x_low = pts[:, 0] > point_range[0] # 0\n",
    "    flag_y_low = pts[:, 1] > point_range[1] # -39.68\n",
    "    flag_z_low = pts[:, 2] > point_range[2] # -3\n",
    "    flag_x_high = pts[:, 0] < point_range[3] # 69.12\n",
    "    flag_y_high = pts[:, 1] < point_range[4] # 39.68\n",
    "    flag_z_high = pts[:, 2] < point_range[5] # 1\n",
    "    keep_mask = flag_x_low & flag_y_low & flag_z_low & flag_x_high & flag_y_high & flag_z_high\n",
    "    pts = pts[keep_mask]\n",
    "    return pts "
   ]
  },
  {
   "cell_type": "code",
   "execution_count": 25,
   "id": "ff8bbce7",
   "metadata": {},
   "outputs": [],
   "source": [
    "pc_file_list = sorted(os.listdir(\"dataset/testing/velodyne/\"))\n",
    "\n",
    "\n",
    "input_pc_path = \"dataset/testing/velodyne/\" + pc_file_list[0]\n",
    "\n",
    "suffix = os.path.splitext(input_pc_path)[1]\n",
    "\n",
    "input_pc = np.fromfile(input_pc_path, dtype=np.float32).reshape(-1, 4)\n",
    "\n",
    "input_pc_fillered = point_range_filter(input_pc)"
   ]
  },
  {
   "cell_type": "code",
   "execution_count": 22,
   "id": "04f7f243",
   "metadata": {},
   "outputs": [
    {
     "data": {
      "text/plain": [
       "(63339, 4)"
      ]
     },
     "execution_count": 22,
     "metadata": {},
     "output_type": "execute_result"
    }
   ],
   "source": [
    "input_pc_fillered.shape"
   ]
  },
  {
   "cell_type": "code",
   "execution_count": null,
   "id": "b6dc3696",
   "metadata": {},
   "outputs": [],
   "source": []
  }
 ],
 "metadata": {
  "kernelspec": {
   "display_name": "Python 3.8.13 ('pillars')",
   "language": "python",
   "name": "python3"
  },
  "language_info": {
   "codemirror_mode": {
    "name": "ipython",
    "version": 3
   },
   "file_extension": ".py",
   "mimetype": "text/x-python",
   "name": "python",
   "nbconvert_exporter": "python",
   "pygments_lexer": "ipython3",
   "version": "3.8.13"
  },
  "vscode": {
   "interpreter": {
    "hash": "9a272d058f02466131663a98fde0a5fb028fb2427dbe553090c2dd1c9aa10e44"
   }
  }
 },
 "nbformat": 4,
 "nbformat_minor": 5
}
