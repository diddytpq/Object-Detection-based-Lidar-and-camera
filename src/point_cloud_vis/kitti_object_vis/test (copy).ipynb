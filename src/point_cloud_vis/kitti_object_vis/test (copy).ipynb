{
 "cells": [
  {
   "cell_type": "code",
   "execution_count": 8,
   "metadata": {},
   "outputs": [],
   "source": [
    "%matplotlib inline\n",
    "import matplotlib.pyplot as plt\n",
    "import cv2\n",
    "from kitti_object import kitti_object, show_lidar_with_depth, show_lidar_on_image, \\\n",
    "                         show_image_with_boxes, show_lidar_topview_with_boxes, show_lidar_with_depth_custom\n",
    "\n",
    "\n"
   ]
  },
  {
   "cell_type": "code",
   "execution_count": 9,
   "metadata": {},
   "outputs": [
    {
     "name": "stdout",
     "output_type": "stream",
     "text": [
      "Notebook initialized with ipy backend.\n"
     ]
    }
   ],
   "source": [
    "from xvfbwrapper import Xvfb\n",
    "vdisplay = Xvfb(width=1920, height=1080)\n",
    "vdisplay.start()\n",
    "from mayavi import mlab\n",
    "\n",
    "mlab.init_notebook('ipy') # do not use 'x3d' backend which leads to color missing"
   ]
  },
  {
   "cell_type": "code",
   "execution_count": 10,
   "metadata": {},
   "outputs": [],
   "source": [
    "data_idx = 262"
   ]
  },
  {
   "cell_type": "code",
   "execution_count": 11,
   "metadata": {},
   "outputs": [
    {
     "name": "stdout",
     "output_type": "stream",
     "text": [
      "/media/drcl/DATADRIVE1/kitti training\n",
      "/media/drcl/DATADRIVE1/kitti/training/velodyne/000262.bin\n",
      "('All point num: ', 105709)\n",
      "('FOV point num: ', (17791, 4))\n",
      "pc_velo (17791, 4)\n",
      "==================== (17791, 4)\n",
      "score :  0.7490506768226624\n",
      "score :  0.7430149912834167\n",
      "score :  0.730004072189331\n",
      "score :  0.6891829371452332\n",
      "score :  0.6756205558776855\n",
      "score :  0.6167497038841248\n",
      "score :  0.6141756772994995\n",
      "score :  0.5792523622512817\n"
     ]
    },
    {
     "data": {
      "application/vnd.jupyter.widget-view+json": {
       "model_id": "48fe2b67441a41908f5723d98cad2ec9",
       "version_major": 2,
       "version_minor": 0
      },
      "text/plain": [
       "Image(value=b'\\x89PNG\\r\\n\\x1a\\n\\x00\\x00\\x00\\rIHDR\\x00\\x00\\x03 \\x00\\x00\\x01\\xc2\\x08\\x02\\x00\\x00\\x00\\x98\\x01:\\x9…"
      ]
     },
     "metadata": {},
     "output_type": "display_data"
    }
   ],
   "source": [
    "### Clocs 박스 출력\n",
    "\n",
    "dataset_Clocs = kitti_object(\"/media/drcl/DATADRIVE1/kitti\", \"/home/drcl/workspace/Project-Clocs/data/clocs_data/output/\", \"training\")\n",
    "\n",
    "objects_Clocs = dataset_Clocs.get_label_objects(data_idx)\n",
    "pc_velo_Clocs = dataset_Clocs.get_lidar(data_idx)\n",
    "calib_Clocs = dataset_Clocs.get_calibration(data_idx)\n",
    "img_Clocs = dataset_Clocs.get_image(data_idx)\n",
    "img_height_Clocs, img_width_Clocs, _ = img_Clocs.shape\n",
    "\n",
    "fig_3d = mlab.figure(bgcolor=(0, 0, 0), size=(800, 450))\n",
    "show_lidar_with_depth_custom(pc_velo_Clocs, objects_Clocs, calib_Clocs, fig_3d, True, img_width_Clocs, img_height_Clocs)\n",
    "fig_3d"
   ]
  },
  {
   "cell_type": "code",
   "execution_count": null,
   "metadata": {},
   "outputs": [],
   "source": []
  },
  {
   "cell_type": "code",
   "execution_count": null,
   "metadata": {},
   "outputs": [],
   "source": []
  }
 ],
 "metadata": {
  "kernelspec": {
   "display_name": "Python 3.9.12 ('base')",
   "language": "python",
   "name": "python3"
  },
  "language_info": {
   "codemirror_mode": {
    "name": "ipython",
    "version": 3
   },
   "file_extension": ".py",
   "mimetype": "text/x-python",
   "name": "python",
   "nbconvert_exporter": "python",
   "pygments_lexer": "ipython3",
   "version": "3.9.12"
  },
  "vscode": {
   "interpreter": {
    "hash": "703655dbcd5c7c8bb9ae97194b51cd0ffe369cdc9bf201b74b2ce75193c2e233"
   }
  }
 },
 "nbformat": 4,
 "nbformat_minor": 4
}
