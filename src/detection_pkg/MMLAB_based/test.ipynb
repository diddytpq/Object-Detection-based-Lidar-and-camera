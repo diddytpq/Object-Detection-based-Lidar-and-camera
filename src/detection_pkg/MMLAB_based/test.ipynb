{
 "cells": [
  {
   "cell_type": "code",
   "execution_count": 50,
   "metadata": {},
   "outputs": [],
   "source": [
    "import argparse\n",
    "from pathlib import Path\n",
    "import sys\n",
    "\n",
    "import numpy as np\n",
    "from numpy.lib.recfunctions import structured_to_unstructured\n",
    "import rospy\n",
    "# import sensor_msgs.point_cloud2 as pc2\n",
    "from sensor_msgs.msg import PointCloud2\n",
    "from jsk_recognition_msgs.msg import BoundingBox, BoundingBoxArray\n",
    "from visualization_msgs.msg import Marker,MarkerArray\n",
    "import ros_numpy\n",
    "\n",
    "from pyquaternion import Quaternion\n",
    "\n",
    "\n",
    "import torch\n",
    "import os\n",
    "import cv2\n",
    "import pdb\n",
    "\n",
    "from mmdet3d.apis import inference_detector, init_model, show_result_meshlab\n",
    "from mmdet3d.core.bbox.structures.box_3d_mode import Box3DMode, LiDARInstance3DBoxes\n",
    "\n",
    "from copy import deepcopy\n",
    "\n",
    "from mmdet3d.datasets.pipelines import Compose\n",
    "from mmcv.parallel import collate, scatter"
   ]
  },
  {
   "cell_type": "code",
   "execution_count": 36,
   "metadata": {},
   "outputs": [
    {
     "name": "stdout",
     "output_type": "stream",
     "text": [
      "load checkpoint from local path: mmdetection3d/checkpoints/hv_pointpillars_secfpn_6x8_160e_kitti-3d-3class_20220301_150306-37dc2420.pth\n"
     ]
    }
   ],
   "source": [
    "config = \"mmdetection3d/configs/pointpillars/hv_pointpillars_secfpn_6x8_160e_kitti-3d-3class.py\"\n",
    "checkpoint = \"mmdetection3d/checkpoints/hv_pointpillars_secfpn_6x8_160e_kitti-3d-3class_20220301_150306-37dc2420.pth\"\n",
    "\n",
    "device = \"cuda:0\"\n",
    "\n",
    "data_path = \"mmdetection3d/demo/data/kitti/kitti_000008.bin\"\n",
    "\n",
    "model = init_model(config, checkpoint, device=device)\n",
    "\n",
    "\n",
    "box_type_3d = LiDARInstance3DBoxes\n",
    "box_mode_3d = Box3DMode.LIDAR\n"
   ]
  },
  {
   "cell_type": "code",
   "execution_count": 39,
   "metadata": {},
   "outputs": [],
   "source": [
    "test_pipeline = deepcopy(model.cfg.data.test.pipeline)"
   ]
  },
  {
   "cell_type": "code",
   "execution_count": 40,
   "metadata": {},
   "outputs": [],
   "source": [
    "test_pipeline = Compose(test_pipeline)"
   ]
  },
  {
   "cell_type": "code",
   "execution_count": 54,
   "metadata": {},
   "outputs": [],
   "source": [
    "data = dict(\n",
    "            pts_filename=data_path,\n",
    "            box_type_3d=box_type_3d,\n",
    "            box_mode_3d=box_mode_3d,\n",
    "            # for ScanNet demo we need axis_align_matrix\n",
    "            ann_info=dict(axis_align_matrix=np.eye(4)),\n",
    "            sweeps=[],\n",
    "            # set timestamp = 0\n",
    "            timestamp=[0],\n",
    "            img_fields=[],\n",
    "            bbox3d_fields=[],\n",
    "            pts_mask_fields=[],\n",
    "            pts_seg_fields=[],\n",
    "            bbox_fields=[],\n",
    "            mask_fields=[],\n",
    "            seg_fields=[])"
   ]
  },
  {
   "cell_type": "code",
   "execution_count": 55,
   "metadata": {},
   "outputs": [],
   "source": [
    "data = test_pipeline(data)"
   ]
  },
  {
   "cell_type": "code",
   "execution_count": 57,
   "metadata": {},
   "outputs": [],
   "source": [
    "data = collate([data], samples_per_gpu=1)\n",
    "data['img_metas'] = data['img_metas'][0].data\n",
    "data['points'] = data['points'][0].data"
   ]
  },
  {
   "cell_type": "code",
   "execution_count": null,
   "metadata": {},
   "outputs": [],
   "source": [
    "with torch.no_grad():\n",
    "    result = model(return_loss=False, rescale=True, **data)"
   ]
  }
 ],
 "metadata": {
  "kernelspec": {
   "display_name": "Python 3.8.13 ('mmlab')",
   "language": "python",
   "name": "python3"
  },
  "language_info": {
   "codemirror_mode": {
    "name": "ipython",
    "version": 3
   },
   "file_extension": ".py",
   "mimetype": "text/x-python",
   "name": "python",
   "nbconvert_exporter": "python",
   "pygments_lexer": "ipython3",
   "version": "3.8.13"
  },
  "vscode": {
   "interpreter": {
    "hash": "7d3e592bd00c2443c54b402565f4e91bc2b5543f7c244ee29cffdc8801b76f9f"
   }
  }
 },
 "nbformat": 4,
 "nbformat_minor": 2
}
